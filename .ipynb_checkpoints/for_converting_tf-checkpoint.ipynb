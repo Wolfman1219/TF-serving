{
 "cells": [
  {
   "cell_type": "code",
   "execution_count": 1,
   "id": "c627dcc0-3b80-4f30-978e-909e681607ea",
   "metadata": {},
   "outputs": [
    {
     "name": "stdout",
     "output_type": "stream",
     "text": [
      "Looking in indexes: https://pypi.org/simple, https://pypi.ngc.nvidia.com\n",
      "Requirement already satisfied: onnx2keras in /home/hasan/anaconda3/envs/triple/lib/python3.9/site-packages (0.0.24)\n",
      "Requirement already satisfied: tensorflow in /home/hasan/anaconda3/envs/triple/lib/python3.9/site-packages (from onnx2keras) (2.13.0)\n",
      "Requirement already satisfied: numpy in /home/hasan/anaconda3/envs/triple/lib/python3.9/site-packages (from onnx2keras) (1.23.5)\n",
      "Requirement already satisfied: onnx in /home/hasan/anaconda3/envs/triple/lib/python3.9/site-packages (from onnx2keras) (1.14.0)\n",
      "Requirement already satisfied: protobuf>=3.20.2 in /home/hasan/anaconda3/envs/triple/lib/python3.9/site-packages (from onnx->onnx2keras) (4.24.0)\n",
      "Requirement already satisfied: typing-extensions>=3.6.2.1 in /home/hasan/anaconda3/envs/triple/lib/python3.9/site-packages (from onnx->onnx2keras) (4.7.1)\n",
      "Requirement already satisfied: absl-py>=1.0.0 in /home/hasan/anaconda3/envs/triple/lib/python3.9/site-packages (from tensorflow->onnx2keras) (1.4.0)\n",
      "Requirement already satisfied: astunparse>=1.6.0 in /home/hasan/anaconda3/envs/triple/lib/python3.9/site-packages (from tensorflow->onnx2keras) (1.6.3)\n",
      "Requirement already satisfied: flatbuffers>=23.1.21 in /home/hasan/anaconda3/envs/triple/lib/python3.9/site-packages (from tensorflow->onnx2keras) (23.5.26)\n",
      "Requirement already satisfied: gast<=0.4.0,>=0.2.1 in /home/hasan/anaconda3/envs/triple/lib/python3.9/site-packages (from tensorflow->onnx2keras) (0.4.0)\n",
      "Requirement already satisfied: google-pasta>=0.1.1 in /home/hasan/anaconda3/envs/triple/lib/python3.9/site-packages (from tensorflow->onnx2keras) (0.2.0)\n",
      "Requirement already satisfied: grpcio<2.0,>=1.24.3 in /home/hasan/anaconda3/envs/triple/lib/python3.9/site-packages (from tensorflow->onnx2keras) (1.57.0)\n",
      "Requirement already satisfied: h5py>=2.9.0 in /home/hasan/anaconda3/envs/triple/lib/python3.9/site-packages (from tensorflow->onnx2keras) (3.9.0)\n",
      "Requirement already satisfied: keras<2.14,>=2.13.1 in /home/hasan/anaconda3/envs/triple/lib/python3.9/site-packages (from tensorflow->onnx2keras) (2.13.1)\n",
      "Requirement already satisfied: libclang>=13.0.0 in /home/hasan/anaconda3/envs/triple/lib/python3.9/site-packages (from tensorflow->onnx2keras) (16.0.6)\n",
      "Requirement already satisfied: opt-einsum>=2.3.2 in /home/hasan/anaconda3/envs/triple/lib/python3.9/site-packages (from tensorflow->onnx2keras) (3.3.0)\n",
      "Requirement already satisfied: packaging in /home/hasan/anaconda3/envs/triple/lib/python3.9/site-packages (from tensorflow->onnx2keras) (23.1)\n",
      "Requirement already satisfied: setuptools in /home/hasan/anaconda3/envs/triple/lib/python3.9/site-packages (from tensorflow->onnx2keras) (68.0.0)\n",
      "Requirement already satisfied: six>=1.12.0 in /home/hasan/anaconda3/envs/triple/lib/python3.9/site-packages (from tensorflow->onnx2keras) (1.16.0)\n",
      "Requirement already satisfied: tensorboard<2.14,>=2.13 in /home/hasan/anaconda3/envs/triple/lib/python3.9/site-packages (from tensorflow->onnx2keras) (2.13.0)\n",
      "Requirement already satisfied: tensorflow-estimator<2.14,>=2.13.0 in /home/hasan/anaconda3/envs/triple/lib/python3.9/site-packages (from tensorflow->onnx2keras) (2.13.0)\n",
      "Requirement already satisfied: termcolor>=1.1.0 in /home/hasan/anaconda3/envs/triple/lib/python3.9/site-packages (from tensorflow->onnx2keras) (2.3.0)\n",
      "Collecting typing-extensions>=3.6.2.1 (from onnx->onnx2keras)\n",
      "  Downloading typing_extensions-4.5.0-py3-none-any.whl (27 kB)\n",
      "Requirement already satisfied: wrapt>=1.11.0 in /home/hasan/anaconda3/envs/triple/lib/python3.9/site-packages (from tensorflow->onnx2keras) (1.15.0)\n",
      "Requirement already satisfied: tensorflow-io-gcs-filesystem>=0.23.1 in /home/hasan/anaconda3/envs/triple/lib/python3.9/site-packages (from tensorflow->onnx2keras) (0.33.0)\n",
      "Requirement already satisfied: wheel<1.0,>=0.23.0 in /home/hasan/anaconda3/envs/triple/lib/python3.9/site-packages (from astunparse>=1.6.0->tensorflow->onnx2keras) (0.38.4)\n",
      "Requirement already satisfied: google-auth<3,>=1.6.3 in /home/hasan/anaconda3/envs/triple/lib/python3.9/site-packages (from tensorboard<2.14,>=2.13->tensorflow->onnx2keras) (2.22.0)\n",
      "Requirement already satisfied: google-auth-oauthlib<1.1,>=0.5 in /home/hasan/anaconda3/envs/triple/lib/python3.9/site-packages (from tensorboard<2.14,>=2.13->tensorflow->onnx2keras) (1.0.0)\n",
      "Requirement already satisfied: markdown>=2.6.8 in /home/hasan/anaconda3/envs/triple/lib/python3.9/site-packages (from tensorboard<2.14,>=2.13->tensorflow->onnx2keras) (3.4.4)\n",
      "Requirement already satisfied: requests<3,>=2.21.0 in /home/hasan/anaconda3/envs/triple/lib/python3.9/site-packages (from tensorboard<2.14,>=2.13->tensorflow->onnx2keras) (2.31.0)\n",
      "Requirement already satisfied: tensorboard-data-server<0.8.0,>=0.7.0 in /home/hasan/anaconda3/envs/triple/lib/python3.9/site-packages (from tensorboard<2.14,>=2.13->tensorflow->onnx2keras) (0.7.1)\n",
      "Requirement already satisfied: werkzeug>=1.0.1 in /home/hasan/anaconda3/envs/triple/lib/python3.9/site-packages (from tensorboard<2.14,>=2.13->tensorflow->onnx2keras) (2.3.7)\n",
      "Requirement already satisfied: cachetools<6.0,>=2.0.0 in /home/hasan/anaconda3/envs/triple/lib/python3.9/site-packages (from google-auth<3,>=1.6.3->tensorboard<2.14,>=2.13->tensorflow->onnx2keras) (5.3.1)\n",
      "Requirement already satisfied: pyasn1-modules>=0.2.1 in /home/hasan/anaconda3/envs/triple/lib/python3.9/site-packages (from google-auth<3,>=1.6.3->tensorboard<2.14,>=2.13->tensorflow->onnx2keras) (0.3.0)\n",
      "Requirement already satisfied: rsa<5,>=3.1.4 in /home/hasan/anaconda3/envs/triple/lib/python3.9/site-packages (from google-auth<3,>=1.6.3->tensorboard<2.14,>=2.13->tensorflow->onnx2keras) (4.9)\n",
      "Requirement already satisfied: urllib3<2.0 in /home/hasan/anaconda3/envs/triple/lib/python3.9/site-packages (from google-auth<3,>=1.6.3->tensorboard<2.14,>=2.13->tensorflow->onnx2keras) (1.26.16)\n",
      "Requirement already satisfied: requests-oauthlib>=0.7.0 in /home/hasan/anaconda3/envs/triple/lib/python3.9/site-packages (from google-auth-oauthlib<1.1,>=0.5->tensorboard<2.14,>=2.13->tensorflow->onnx2keras) (1.3.1)\n",
      "Requirement already satisfied: importlib-metadata>=4.4 in /home/hasan/anaconda3/envs/triple/lib/python3.9/site-packages (from markdown>=2.6.8->tensorboard<2.14,>=2.13->tensorflow->onnx2keras) (6.8.0)\n",
      "Requirement already satisfied: charset-normalizer<4,>=2 in /home/hasan/anaconda3/envs/triple/lib/python3.9/site-packages (from requests<3,>=2.21.0->tensorboard<2.14,>=2.13->tensorflow->onnx2keras) (3.2.0)\n",
      "Requirement already satisfied: idna<4,>=2.5 in /home/hasan/anaconda3/envs/triple/lib/python3.9/site-packages (from requests<3,>=2.21.0->tensorboard<2.14,>=2.13->tensorflow->onnx2keras) (3.4)\n",
      "Requirement already satisfied: certifi>=2017.4.17 in /home/hasan/anaconda3/envs/triple/lib/python3.9/site-packages (from requests<3,>=2.21.0->tensorboard<2.14,>=2.13->tensorflow->onnx2keras) (2023.7.22)\n",
      "Requirement already satisfied: MarkupSafe>=2.1.1 in /home/hasan/anaconda3/envs/triple/lib/python3.9/site-packages (from werkzeug>=1.0.1->tensorboard<2.14,>=2.13->tensorflow->onnx2keras) (2.1.1)\n",
      "Requirement already satisfied: zipp>=0.5 in /home/hasan/anaconda3/envs/triple/lib/python3.9/site-packages (from importlib-metadata>=4.4->markdown>=2.6.8->tensorboard<2.14,>=2.13->tensorflow->onnx2keras) (3.16.2)\n",
      "Requirement already satisfied: pyasn1<0.6.0,>=0.4.6 in /home/hasan/anaconda3/envs/triple/lib/python3.9/site-packages (from pyasn1-modules>=0.2.1->google-auth<3,>=1.6.3->tensorboard<2.14,>=2.13->tensorflow->onnx2keras) (0.5.0)\n",
      "Requirement already satisfied: oauthlib>=3.0.0 in /home/hasan/anaconda3/envs/triple/lib/python3.9/site-packages (from requests-oauthlib>=0.7.0->google-auth-oauthlib<1.1,>=0.5->tensorboard<2.14,>=2.13->tensorflow->onnx2keras) (3.2.2)\n",
      "Installing collected packages: typing-extensions\n",
      "  Attempting uninstall: typing-extensions\n",
      "    Found existing installation: typing_extensions 4.7.1\n",
      "    Uninstalling typing_extensions-4.7.1:\n",
      "      Successfully uninstalled typing_extensions-4.7.1\n",
      "\u001b[31mERROR: pip's dependency resolver does not currently take into account all the packages that are installed. This behaviour is the source of the following dependency conflicts.\n",
      "pydantic 2.3.0 requires typing-extensions>=4.6.1, but you have typing-extensions 4.5.0 which is incompatible.\n",
      "pydantic-core 2.6.3 requires typing-extensions!=4.7.0,>=4.6.0, but you have typing-extensions 4.5.0 which is incompatible.\u001b[0m\u001b[31m\n",
      "\u001b[0mSuccessfully installed typing-extensions-4.5.0\n"
     ]
    }
   ],
   "source": [
    "!pip install onnx2keras"
   ]
  },
  {
   "cell_type": "code",
   "execution_count": 2,
   "id": "7faadbfc-6255-4791-8a68-8ea9ce1a544d",
   "metadata": {},
   "outputs": [
    {
     "name": "stdout",
     "output_type": "stream",
     "text": [
      "Cloning into 'onnx-tensorflow'...\n",
      "remote: Enumerating objects: 6516, done.\u001b[K\n",
      "remote: Counting objects: 100% (465/465), done.\u001b[K\n",
      "remote: Compressing objects: 100% (214/214), done.\u001b[K\n",
      "remote: Total 6516 (delta 326), reused 369 (delta 247), pack-reused 6051\u001b[K\n",
      "Receiving objects: 100% (6516/6516), 1.98 MiB | 2.26 MiB/s, done.\n",
      "Resolving deltas: 100% (5053/5053), done.\n"
     ]
    }
   ],
   "source": [
    "!git clone https://github.com/onnx/onnx-tensorflow.git && cd onnx-tensorflow"
   ]
  },
  {
   "cell_type": "code",
   "execution_count": null,
   "id": "91916b65-a5f9-4a53-b645-137b50f3a879",
   "metadata": {},
   "outputs": [],
   "source": [
    "!onnx-tf convert -i \"/home/hasan/Public/yolo_with_streamlit/models/yolov8n.onnx\" -o  \"/home/hasan/Public/TF-serving/model/yolov8n\""
   ]
  },
  {
   "cell_type": "code",
   "execution_count": null,
   "id": "1f3949d0-5329-4975-b4fb-6b88c95fc84c",
   "metadata": {},
   "outputs": [],
   "source": [
    "import tensorflow as tf\n",
    "saved_model_dir = '/content/drive/MyDrive/models/best.pb'\n",
    "converter = tf.lite.TFLiteConverter.from_saved_model(saved_model_dir)\n",
    "converter.target_spec.supported_ops = [\n",
    "  tf.lite.OpsSet.TFLITE_BUILTINS, # enable TensorFlow Lite ops.\n",
    "  tf.lite.OpsSet.SELECT_TF_OPS # enable TensorFlow ops.\n",
    "]\n",
    "tflite_model = converter.convert()\n",
    "open(\"/content/drive/MyDrive/models/converted_model.tflite\", \"wb\").write(tflite_model)\n"
   ]
  }
 ],
 "metadata": {
  "kernelspec": {
   "display_name": "Python 3 (ipykernel)",
   "language": "python",
   "name": "python3"
  },
  "language_info": {
   "codemirror_mode": {
    "name": "ipython",
    "version": 3
   },
   "file_extension": ".py",
   "mimetype": "text/x-python",
   "name": "python",
   "nbconvert_exporter": "python",
   "pygments_lexer": "ipython3",
   "version": "3.9.17"
  }
 },
 "nbformat": 4,
 "nbformat_minor": 5
}
